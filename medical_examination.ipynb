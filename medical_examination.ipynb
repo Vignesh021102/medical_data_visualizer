{
 "cells": [
  {
   "cell_type": "code",
   "execution_count": 2,
   "id": "984416b9-6660-43f1-b8ea-8705928a9696",
   "metadata": {},
   "outputs": [],
   "source": [
    "import pandas as pd\n",
    "import numpy as np\n",
    "import matplotlib.pyplot as plt"
   ]
  },
  {
   "cell_type": "code",
   "execution_count": 3,
   "id": "530f0ebf-1890-43be-8f33-93293c6a1fed",
   "metadata": {},
   "outputs": [],
   "source": [
    "data = pd.read_csv('medical_examination.csv')"
   ]
  },
  {
   "cell_type": "code",
   "execution_count": 4,
   "id": "8a3b2335-c2ed-44b7-aad0-29ef393e9844",
   "metadata": {},
   "outputs": [
    {
     "data": {
      "text/html": [
       "<div>\n",
       "<style scoped>\n",
       "    .dataframe tbody tr th:only-of-type {\n",
       "        vertical-align: middle;\n",
       "    }\n",
       "\n",
       "    .dataframe tbody tr th {\n",
       "        vertical-align: top;\n",
       "    }\n",
       "\n",
       "    .dataframe thead th {\n",
       "        text-align: right;\n",
       "    }\n",
       "</style>\n",
       "<table border=\"1\" class=\"dataframe\">\n",
       "  <thead>\n",
       "    <tr style=\"text-align: right;\">\n",
       "      <th></th>\n",
       "      <th>id</th>\n",
       "      <th>age</th>\n",
       "      <th>sex</th>\n",
       "      <th>height</th>\n",
       "      <th>weight</th>\n",
       "      <th>ap_hi</th>\n",
       "      <th>ap_lo</th>\n",
       "      <th>cholesterol</th>\n",
       "      <th>gluc</th>\n",
       "      <th>smoke</th>\n",
       "      <th>alco</th>\n",
       "      <th>active</th>\n",
       "      <th>cardio</th>\n",
       "    </tr>\n",
       "  </thead>\n",
       "  <tbody>\n",
       "    <tr>\n",
       "      <th>0</th>\n",
       "      <td>0</td>\n",
       "      <td>18393</td>\n",
       "      <td>2</td>\n",
       "      <td>168</td>\n",
       "      <td>62.0</td>\n",
       "      <td>110</td>\n",
       "      <td>80</td>\n",
       "      <td>1</td>\n",
       "      <td>1</td>\n",
       "      <td>0</td>\n",
       "      <td>0</td>\n",
       "      <td>1</td>\n",
       "      <td>0</td>\n",
       "    </tr>\n",
       "    <tr>\n",
       "      <th>1</th>\n",
       "      <td>1</td>\n",
       "      <td>20228</td>\n",
       "      <td>1</td>\n",
       "      <td>156</td>\n",
       "      <td>85.0</td>\n",
       "      <td>140</td>\n",
       "      <td>90</td>\n",
       "      <td>3</td>\n",
       "      <td>1</td>\n",
       "      <td>0</td>\n",
       "      <td>0</td>\n",
       "      <td>1</td>\n",
       "      <td>1</td>\n",
       "    </tr>\n",
       "    <tr>\n",
       "      <th>2</th>\n",
       "      <td>2</td>\n",
       "      <td>18857</td>\n",
       "      <td>1</td>\n",
       "      <td>165</td>\n",
       "      <td>64.0</td>\n",
       "      <td>130</td>\n",
       "      <td>70</td>\n",
       "      <td>3</td>\n",
       "      <td>1</td>\n",
       "      <td>0</td>\n",
       "      <td>0</td>\n",
       "      <td>0</td>\n",
       "      <td>1</td>\n",
       "    </tr>\n",
       "    <tr>\n",
       "      <th>3</th>\n",
       "      <td>3</td>\n",
       "      <td>17623</td>\n",
       "      <td>2</td>\n",
       "      <td>169</td>\n",
       "      <td>82.0</td>\n",
       "      <td>150</td>\n",
       "      <td>100</td>\n",
       "      <td>1</td>\n",
       "      <td>1</td>\n",
       "      <td>0</td>\n",
       "      <td>0</td>\n",
       "      <td>1</td>\n",
       "      <td>1</td>\n",
       "    </tr>\n",
       "    <tr>\n",
       "      <th>4</th>\n",
       "      <td>4</td>\n",
       "      <td>17474</td>\n",
       "      <td>1</td>\n",
       "      <td>156</td>\n",
       "      <td>56.0</td>\n",
       "      <td>100</td>\n",
       "      <td>60</td>\n",
       "      <td>1</td>\n",
       "      <td>1</td>\n",
       "      <td>0</td>\n",
       "      <td>0</td>\n",
       "      <td>0</td>\n",
       "      <td>0</td>\n",
       "    </tr>\n",
       "    <tr>\n",
       "      <th>...</th>\n",
       "      <td>...</td>\n",
       "      <td>...</td>\n",
       "      <td>...</td>\n",
       "      <td>...</td>\n",
       "      <td>...</td>\n",
       "      <td>...</td>\n",
       "      <td>...</td>\n",
       "      <td>...</td>\n",
       "      <td>...</td>\n",
       "      <td>...</td>\n",
       "      <td>...</td>\n",
       "      <td>...</td>\n",
       "      <td>...</td>\n",
       "    </tr>\n",
       "    <tr>\n",
       "      <th>69995</th>\n",
       "      <td>99993</td>\n",
       "      <td>19240</td>\n",
       "      <td>2</td>\n",
       "      <td>168</td>\n",
       "      <td>76.0</td>\n",
       "      <td>120</td>\n",
       "      <td>80</td>\n",
       "      <td>1</td>\n",
       "      <td>1</td>\n",
       "      <td>1</td>\n",
       "      <td>0</td>\n",
       "      <td>1</td>\n",
       "      <td>0</td>\n",
       "    </tr>\n",
       "    <tr>\n",
       "      <th>69996</th>\n",
       "      <td>99995</td>\n",
       "      <td>22601</td>\n",
       "      <td>1</td>\n",
       "      <td>158</td>\n",
       "      <td>126.0</td>\n",
       "      <td>140</td>\n",
       "      <td>90</td>\n",
       "      <td>2</td>\n",
       "      <td>2</td>\n",
       "      <td>0</td>\n",
       "      <td>0</td>\n",
       "      <td>1</td>\n",
       "      <td>1</td>\n",
       "    </tr>\n",
       "    <tr>\n",
       "      <th>69997</th>\n",
       "      <td>99996</td>\n",
       "      <td>19066</td>\n",
       "      <td>2</td>\n",
       "      <td>183</td>\n",
       "      <td>105.0</td>\n",
       "      <td>180</td>\n",
       "      <td>90</td>\n",
       "      <td>3</td>\n",
       "      <td>1</td>\n",
       "      <td>0</td>\n",
       "      <td>1</td>\n",
       "      <td>0</td>\n",
       "      <td>1</td>\n",
       "    </tr>\n",
       "    <tr>\n",
       "      <th>69998</th>\n",
       "      <td>99998</td>\n",
       "      <td>22431</td>\n",
       "      <td>1</td>\n",
       "      <td>163</td>\n",
       "      <td>72.0</td>\n",
       "      <td>135</td>\n",
       "      <td>80</td>\n",
       "      <td>1</td>\n",
       "      <td>2</td>\n",
       "      <td>0</td>\n",
       "      <td>0</td>\n",
       "      <td>0</td>\n",
       "      <td>1</td>\n",
       "    </tr>\n",
       "    <tr>\n",
       "      <th>69999</th>\n",
       "      <td>99999</td>\n",
       "      <td>20540</td>\n",
       "      <td>1</td>\n",
       "      <td>170</td>\n",
       "      <td>72.0</td>\n",
       "      <td>120</td>\n",
       "      <td>80</td>\n",
       "      <td>2</td>\n",
       "      <td>1</td>\n",
       "      <td>0</td>\n",
       "      <td>0</td>\n",
       "      <td>1</td>\n",
       "      <td>0</td>\n",
       "    </tr>\n",
       "  </tbody>\n",
       "</table>\n",
       "<p>70000 rows × 13 columns</p>\n",
       "</div>"
      ],
      "text/plain": [
       "          id    age  sex  height  weight  ap_hi  ap_lo  cholesterol  gluc  \\\n",
       "0          0  18393    2     168    62.0    110     80            1     1   \n",
       "1          1  20228    1     156    85.0    140     90            3     1   \n",
       "2          2  18857    1     165    64.0    130     70            3     1   \n",
       "3          3  17623    2     169    82.0    150    100            1     1   \n",
       "4          4  17474    1     156    56.0    100     60            1     1   \n",
       "...      ...    ...  ...     ...     ...    ...    ...          ...   ...   \n",
       "69995  99993  19240    2     168    76.0    120     80            1     1   \n",
       "69996  99995  22601    1     158   126.0    140     90            2     2   \n",
       "69997  99996  19066    2     183   105.0    180     90            3     1   \n",
       "69998  99998  22431    1     163    72.0    135     80            1     2   \n",
       "69999  99999  20540    1     170    72.0    120     80            2     1   \n",
       "\n",
       "       smoke  alco  active  cardio  \n",
       "0          0     0       1       0  \n",
       "1          0     0       1       1  \n",
       "2          0     0       0       1  \n",
       "3          0     0       1       1  \n",
       "4          0     0       0       0  \n",
       "...      ...   ...     ...     ...  \n",
       "69995      1     0       1       0  \n",
       "69996      0     0       1       1  \n",
       "69997      0     1       0       1  \n",
       "69998      0     0       0       1  \n",
       "69999      0     0       1       0  \n",
       "\n",
       "[70000 rows x 13 columns]"
      ]
     },
     "execution_count": 4,
     "metadata": {},
     "output_type": "execute_result"
    }
   ],
   "source": [
    "data"
   ]
  },
  {
   "cell_type": "raw",
   "id": "3531936a-c8ee-4a43-b8b1-320e550b1dab",
   "metadata": {},
   "source": [
    "Add an overweight column to the data. To determine if a person is overweight, first calculate their BMI by dividing their weight in kilograms by the square of their height in meters. If that value is > 25 then the person is overweight. Use the value 0 for NOT overweight and the value 1 for overweight."
   ]
  },
  {
   "cell_type": "code",
   "execution_count": 5,
   "id": "deef63a3-3280-4e70-afc3-ba0cd2808374",
   "metadata": {},
   "outputs": [],
   "source": [
    "data['overweight'] = np.where(data.weight/((data.height/100)**2)>25,1,0)"
   ]
  },
  {
   "cell_type": "raw",
   "id": "9cbc2f44-f26f-4c25-86d3-f2071b09e0bb",
   "metadata": {},
   "source": [
    "Normalize the data by making 0 always good and 1 always bad. If the value of cholesterol or gluc is 1, make the value 0. If the value is more than 1, make the value 1."
   ]
  },
  {
   "cell_type": "code",
   "execution_count": 6,
   "id": "044f14cb-7844-4629-8478-0cb048bfea11",
   "metadata": {},
   "outputs": [],
   "source": [
    "data['cholesterol'] = np.where(data.cholesterol>1,1,0)\n",
    "data.gluc = np.where(data.gluc>1,1,0)"
   ]
  },
  {
   "cell_type": "code",
   "execution_count": 7,
   "id": "d9f0c879-08ba-497d-9392-5015445f7432",
   "metadata": {},
   "outputs": [],
   "source": [
    "c0 = data[data.cardio == 0]\n",
    "c1 = data[data.cardio == 1]"
   ]
  },
  {
   "cell_type": "code",
   "execution_count": 8,
   "id": "676b7e16-6ade-494c-b69c-8a73230ae718",
   "metadata": {},
   "outputs": [],
   "source": [
    "key = np.array(['active','alco','cholesterol','gluc','overweight','smoke'])"
   ]
  },
  {
   "cell_type": "code",
   "execution_count": 9,
   "id": "565285fc-1baa-4b6a-999b-9f3bdb30bc10",
   "metadata": {},
   "outputs": [],
   "source": [
    "c01 = c0[key].sum().values\n",
    "c00 = (c0.shape[0] - c0[key].sum()).values"
   ]
  },
  {
   "cell_type": "code",
   "execution_count": 10,
   "id": "cc5317d1-0da4-4f22-b007-4c105c5b570f",
   "metadata": {},
   "outputs": [],
   "source": [
    "c11 = c1[key].sum().values\n",
    "c10 = (c1.shape[0] - c1[key].sum()).values"
   ]
  },
  {
   "cell_type": "code",
   "execution_count": 11,
   "id": "d3adfb24-e0e0-49b2-8c01-8855a80643c9",
   "metadata": {},
   "outputs": [
    {
     "data": {
      "text/plain": [
       "array([28643,  1941,  5691,  4127, 19106,  3240], dtype=int64)"
      ]
     },
     "execution_count": 11,
     "metadata": {},
     "output_type": "execute_result"
    }
   ],
   "source": [
    "c01"
   ]
  },
  {
   "cell_type": "code",
   "execution_count": 22,
   "id": "f9d66aa8-0b89-4189-9de4-57d61fe3c61c",
   "metadata": {},
   "outputs": [
    {
     "data": {
      "image/png": "[encoded data removed]",
      "text/plain": [
       "<Figure size 432x288 with 2 Axes>"
      ]
     },
     "metadata": {
      "needs_background": "light"
     },
     "output_type": "display_data"
    }
   ],
   "source": [
    "\n",
    "\n",
    "br = np.arange(0,key.shape[0],1)\n",
    "br1 = br-0.2\n",
    "br2 = br+0.2\n",
    "\n",
    "fig,ax = plt.subplots(1, 2, sharex='col', sharey='row')\n",
    "ax[0].bar(br1,c00,label = '0',color = 'g',width = 0.4)\n",
    "ax[0].bar(br2,c01,label = '1',color = 'r',width = 0.4)\n",
    "ax[0].set(ylabel='total',xlabel='variable',title='cardio 0')\n",
    "ax[0].set(xticks = br, xticklabels = key)\n",
    "ax[0].tick_params( labelsize=5)\n",
    "ax[0].spines.top.set_visible(False)\n",
    "ax[0].spines.right.set_visible(False)\n",
    "\n",
    "ax[1].bar(br1,c10,label = '0',color = 'g',width = 0.4)\n",
    "ax[1].bar(br2,c11,label = '1',color = 'r',width = 0.4)\n",
    "ax[1].tick_params( labelsize=5)\n",
    "ax[1].set(xticks = br, xticklabels = key)\n",
    "ax[1].set(xlabel='variable',title='cardio 1')\n",
    "ax[1].legend(frameon=False)\n",
    "fig.tight_layout()\n",
    "ax[1].spines.top.set_visible(False)\n",
    "ax[1].spines.right.set_visible(False)"
   ]
  },
  {
   "cell_type": "code",
   "execution_count": 13,
   "id": "c573f91c-19ae-4609-96cb-2b9816922bc4",
   "metadata": {},
   "outputs": [],
   "source": [
    "fig.savefig('new.jpeg',dpi=2000,transparent=False,bbox_inches='tight')"
   ]
  },
  {
   "cell_type": "code",
   "execution_count": 14,
   "id": "4aa935ed-2f0c-4c43-8384-94dbe38b2308",
   "metadata": {},
   "outputs": [],
   "source": [
    "import seaborn as sns"
   ]
  },
  {
   "cell_type": "code",
   "execution_count": 15,
   "id": "ce285262-a167-4b38-b386-b3591aea19e8",
   "metadata": {},
   "outputs": [],
   "source": [
    "corr = data.corr().values\n",
    "#corr = np.round(corr,2)"
   ]
  },
  {
   "cell_type": "code",
   "execution_count": 16,
   "id": "a6afef42-b48a-4f1c-8017-1fa2c203689c",
   "metadata": {},
   "outputs": [],
   "source": [
    "mask = np.zeros(corr.shape)\n",
    "mask[np.triu_indices_from(mask)] = True"
   ]
  },
  {
   "cell_type": "code",
   "execution_count": 17,
   "id": "7fb72c53-6935-4a1d-a4a5-0406685ab39d",
   "metadata": {},
   "outputs": [],
   "source": [
    "df = pd.DataFrame(corr,data.keys(),data.keys())"
   ]
  },
  {
   "cell_type": "code",
   "execution_count": 192,
   "id": "a61094cc-5bfc-403e-b65a-f9821acae5eb",
   "metadata": {},
   "outputs": [
    {
     "data": {
      "image/png": "[encoded data removed]",
      "text/plain": [
       "<Figure size 432x288 with 2 Axes>"
      ]
     },
     "metadata": {
      "needs_background": "light"
     },
     "output_type": "display_data"
    }
   ],
   "source": [
    "sns.heatmap(df,mask = mask,linewidth=0.9,annot = True,annot_kws={\"size\":5},cbar=True,fmt='0.2f')\n",
    "plt.tick_params(labelsize=5)\n",
    "plt.savefig('heatmap.jpeg',dpi=800)"
   ]
  }
 ],
 "metadata": {
  "kernelspec": {
   "display_name": "Python 3 (ipykernel)",
   "language": "python",
   "name": "python3"
  },
  "language_info": {
   "codemirror_mode": {
    "name": "ipython",
    "version": 3
   },
   "file_extension": ".py",
   "mimetype": "text/x-python",
   "name": "python",
   "nbconvert_exporter": "python",
   "pygments_lexer": "ipython3",
   "version": "3.10.4"
  }
 },
 "nbformat": 4,
 "nbformat_minor": 5
}
